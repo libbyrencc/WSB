{
 "cells": [
  {
   "cell_type": "markdown",
   "id": "ea3a6996",
   "metadata": {},
   "source": [
    "介绍alpaca"
   ]
  },
  {
   "cell_type": "markdown",
   "id": "0dae5845",
   "metadata": {},
   "source": [
    "One good thing s that Alpaca has its own API and their document is nice and complete."
   ]
  },
  {
   "cell_type": "markdown",
   "id": "87420c87",
   "metadata": {},
   "source": [
    "# ppt +1"
   ]
  },
  {
   "cell_type": "markdown",
   "id": "d157d502",
   "metadata": {},
   "source": [
    "### Authentication"
   ]
  },
  {
   "cell_type": "markdown",
   "id": "0764614e",
   "metadata": {},
   "source": [
    "After having an alpaca account, we generate API Key in the paper trading page.  \n",
    "And use this API to connect to our account."
   ]
  },
  {
   "cell_type": "markdown",
   "id": "7db34160",
   "metadata": {},
   "source": [
    "![title](img/2.png)"
   ]
  },
  {
   "cell_type": "markdown",
   "id": "bc71705b",
   "metadata": {},
   "source": [
    "# ppt +2"
   ]
  },
  {
   "cell_type": "markdown",
   "id": "b1922116",
   "metadata": {},
   "source": [
    "And here's the code"
   ]
  },
  {
   "cell_type": "code",
   "execution_count": null,
   "id": "1b33d98f",
   "metadata": {},
   "outputs": [],
   "source": [
    "API_KEY = \"XXXXXXXXXXXXXX\"\n",
    "SECRET_KEY = \"XXXXXXXXXXXXXXX\"\n",
    "\n",
    "import datetime\n",
    "import time\n",
    "import alpaca_trade_api as tradeapi\n",
    "import numpy as np\n",
    "import pandas as pd\n",
    "from datetime import timedelta\n",
    "from pytz import timezone\n",
    "\n",
    "tz = timezone('EST')\n",
    "\n",
    "api = tradeapi.REST(API_KEY,\n",
    "                    SECRET_KEY,\n",
    "                    'https://paper-api.alpaca.markets')"
   ]
  },
  {
   "cell_type": "markdown",
   "id": "84ecbd5c",
   "metadata": {},
   "source": [
    "Now we have succeefully connected to the Alpaca and we can start trading!"
   ]
  },
  {
   "cell_type": "markdown",
   "id": "0989b976",
   "metadata": {},
   "source": [
    "# PPT+3"
   ]
  },
  {
   "cell_type": "markdown",
   "id": "aac44e71",
   "metadata": {},
   "source": [
    "### Account Information"
   ]
  },
  {
   "cell_type": "markdown",
   "id": "8f05fc98",
   "metadata": {},
   "source": [
    "According to the https://alpaca.markets/docs/api-documentation/api-v2/account/   \n",
    "get_account() is used to get account information"
   ]
  },
  {
   "cell_type": "markdown",
   "id": "6d983737",
   "metadata": {},
   "source": [
    "![title](img/1.png)"
   ]
  },
  {
   "cell_type": "markdown",
   "id": "ceedcb16",
   "metadata": {},
   "source": [
    "# PPT +4"
   ]
  },
  {
   "cell_type": "markdown",
   "id": "2db5cfa5",
   "metadata": {},
   "source": [
    "### Get Market Data   \n",
    "https://alpaca.markets/docs/api-documentation/api-v2/market-data/alpaca-data-api-v2/historical/#bars"
   ]
  },
  {
   "cell_type": "markdown",
   "id": "9217533c",
   "metadata": {},
   "source": [
    "Here's our example"
   ]
  },
  {
   "cell_type": "markdown",
   "id": "f5eb9f99",
   "metadata": {},
   "source": [
    "![title](img/3.png)"
   ]
  },
  {
   "cell_type": "markdown",
   "id": "3a010f19",
   "metadata": {},
   "source": [
    "# PPT +5"
   ]
  },
  {
   "cell_type": "markdown",
   "id": "38e5c929",
   "metadata": {},
   "source": [
    "### Order Transmitting"
   ]
  },
  {
   "cell_type": "markdown",
   "id": "283609c8",
   "metadata": {},
   "source": [
    "![title](img/4.png)"
   ]
  },
  {
   "cell_type": "code",
   "execution_count": null,
   "id": "53ed5c3e",
   "metadata": {},
   "outputs": [],
   "source": []
  }
 ],
 "metadata": {
  "kernelspec": {
   "display_name": "Python 3",
   "language": "python",
   "name": "python3"
  },
  "language_info": {
   "codemirror_mode": {
    "name": "ipython",
    "version": 3
   },
   "file_extension": ".py",
   "mimetype": "text/x-python",
   "name": "python",
   "nbconvert_exporter": "python",
   "pygments_lexer": "ipython3",
   "version": "3.8.8"
  }
 },
 "nbformat": 4,
 "nbformat_minor": 5
}
