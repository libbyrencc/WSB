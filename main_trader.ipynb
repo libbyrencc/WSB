{
 "cells": [
  {
   "cell_type": "code",
   "execution_count": 6,
   "id": "f8f609ca",
   "metadata": {},
   "outputs": [],
   "source": [
    "import alpaca_backtrader_api\n",
    "import backtrader as bt\n",
    "from datetime import datetime"
   ]
  },
  {
   "cell_type": "code",
   "execution_count": 7,
   "id": "b8193ddd",
   "metadata": {},
   "outputs": [],
   "source": [
    "ALPACA_API_KEY =\"PKNOUG6TB6QUGR3TMKV4\"\n",
    "ALPACA_SECRET_KEY =\"674cgs9ZbPsAUKBQkHexppv8g5VTfoF3a3j22eLy\"\n",
    "ALPACA_PAPER = True"
   ]
  },
  {
   "cell_type": "code",
   "execution_count": 8,
   "id": "a173de48",
   "metadata": {},
   "outputs": [
    {
     "name": "stdout",
     "output_type": "stream",
     "text": [
      "Starting Portfolio Value: 10000.00\n",
      "Final Portfolio Value: 10000.00\n"
     ]
    },
    {
     "name": "stderr",
     "output_type": "stream",
     "text": [
      "Traceback (most recent call last):\n",
      "  File \"C:\\conda\\lib\\site-packages\\alpaca_backtrader_api\\alpacastore.py\", line 397, in _t_candles\n",
      "    cdl = self.get_aggs_from_alpaca(dataname,\n",
      "  File \"C:\\conda\\lib\\site-packages\\alpaca_backtrader_api\\alpacastore.py\", line 586, in get_aggs_from_alpaca\n",
      "    response = _iterate_api_calls()\n",
      "  File \"C:\\conda\\lib\\site-packages\\alpaca_backtrader_api\\alpacastore.py\", line 522, in _iterate_api_calls\n",
      "    r = self.oapi.get_bars(dataname,\n",
      "  File \"C:\\conda\\lib\\site-packages\\alpaca_trade_api\\rest.py\", line 651, in get_bars\n",
      "    bars = list(self.get_bars_iter(symbol,\n",
      "  File \"C:\\conda\\lib\\site-packages\\alpaca_trade_api\\rest.py\", line 637, in get_bars_iter\n",
      "    for bar in bars:\n",
      "  File \"C:\\conda\\lib\\site-packages\\alpaca_trade_api\\rest.py\", line 564, in _data_get_v2\n",
      "    for item in items:\n",
      "TypeError: 'NoneType' object is not iterable\n"
     ]
    },
    {
     "ename": "AttributeError",
     "evalue": "'Plot_OldSync' object has no attribute 'mpyplot'",
     "output_type": "error",
     "traceback": [
      "\u001b[1;31m---------------------------------------------------------------------------\u001b[0m",
      "\u001b[1;31mAttributeError\u001b[0m                            Traceback (most recent call last)",
      "\u001b[1;32m<ipython-input-8-e3e65cf22bb3>\u001b[0m in \u001b[0;36m<module>\u001b[1;34m\u001b[0m\n\u001b[0;32m     27\u001b[0m \u001b[0mcerebro\u001b[0m\u001b[1;33m.\u001b[0m\u001b[0mrun\u001b[0m\u001b[1;33m(\u001b[0m\u001b[1;33m)\u001b[0m\u001b[1;33m\u001b[0m\u001b[1;33m\u001b[0m\u001b[0m\n\u001b[0;32m     28\u001b[0m \u001b[0mprint\u001b[0m\u001b[1;33m(\u001b[0m\u001b[1;34m'Final Portfolio Value: %.2f'\u001b[0m \u001b[1;33m%\u001b[0m \u001b[0mcerebro\u001b[0m\u001b[1;33m.\u001b[0m\u001b[0mbroker\u001b[0m\u001b[1;33m.\u001b[0m\u001b[0mgetvalue\u001b[0m\u001b[1;33m(\u001b[0m\u001b[1;33m)\u001b[0m\u001b[1;33m)\u001b[0m\u001b[1;33m\u001b[0m\u001b[1;33m\u001b[0m\u001b[0m\n\u001b[1;32m---> 29\u001b[1;33m \u001b[0mcerebro\u001b[0m\u001b[1;33m.\u001b[0m\u001b[0mplot\u001b[0m\u001b[1;33m(\u001b[0m\u001b[1;33m)\u001b[0m\u001b[1;33m\u001b[0m\u001b[1;33m\u001b[0m\u001b[0m\n\u001b[0m",
      "\u001b[1;32mC:\\conda\\lib\\site-packages\\backtrader\\cerebro.py\u001b[0m in \u001b[0;36mplot\u001b[1;34m(self, plotter, numfigs, iplot, start, end, width, height, dpi, tight, use, **kwargs)\u001b[0m\n\u001b[0;32m    994\u001b[0m                 \u001b[0mfigs\u001b[0m\u001b[1;33m.\u001b[0m\u001b[0mappend\u001b[0m\u001b[1;33m(\u001b[0m\u001b[0mrfig\u001b[0m\u001b[1;33m)\u001b[0m\u001b[1;33m\u001b[0m\u001b[1;33m\u001b[0m\u001b[0m\n\u001b[0;32m    995\u001b[0m \u001b[1;33m\u001b[0m\u001b[0m\n\u001b[1;32m--> 996\u001b[1;33m             \u001b[0mplotter\u001b[0m\u001b[1;33m.\u001b[0m\u001b[0mshow\u001b[0m\u001b[1;33m(\u001b[0m\u001b[1;33m)\u001b[0m\u001b[1;33m\u001b[0m\u001b[1;33m\u001b[0m\u001b[0m\n\u001b[0m\u001b[0;32m    997\u001b[0m \u001b[1;33m\u001b[0m\u001b[0m\n\u001b[0;32m    998\u001b[0m         \u001b[1;32mreturn\u001b[0m \u001b[0mfigs\u001b[0m\u001b[1;33m\u001b[0m\u001b[1;33m\u001b[0m\u001b[0m\n",
      "\u001b[1;32mC:\\conda\\lib\\site-packages\\backtrader\\plot\\plot.py\u001b[0m in \u001b[0;36mshow\u001b[1;34m(self)\u001b[0m\n\u001b[0;32m    815\u001b[0m \u001b[1;33m\u001b[0m\u001b[0m\n\u001b[0;32m    816\u001b[0m     \u001b[1;32mdef\u001b[0m \u001b[0mshow\u001b[0m\u001b[1;33m(\u001b[0m\u001b[0mself\u001b[0m\u001b[1;33m)\u001b[0m\u001b[1;33m:\u001b[0m\u001b[1;33m\u001b[0m\u001b[1;33m\u001b[0m\u001b[0m\n\u001b[1;32m--> 817\u001b[1;33m         \u001b[0mself\u001b[0m\u001b[1;33m.\u001b[0m\u001b[0mmpyplot\u001b[0m\u001b[1;33m.\u001b[0m\u001b[0mshow\u001b[0m\u001b[1;33m(\u001b[0m\u001b[1;33m)\u001b[0m\u001b[1;33m\u001b[0m\u001b[1;33m\u001b[0m\u001b[0m\n\u001b[0m\u001b[0;32m    818\u001b[0m \u001b[1;33m\u001b[0m\u001b[0m\n\u001b[0;32m    819\u001b[0m     \u001b[1;32mdef\u001b[0m \u001b[0msavefig\u001b[0m\u001b[1;33m(\u001b[0m\u001b[0mself\u001b[0m\u001b[1;33m,\u001b[0m \u001b[0mfig\u001b[0m\u001b[1;33m,\u001b[0m \u001b[0mfilename\u001b[0m\u001b[1;33m,\u001b[0m \u001b[0mwidth\u001b[0m\u001b[1;33m=\u001b[0m\u001b[1;36m16\u001b[0m\u001b[1;33m,\u001b[0m \u001b[0mheight\u001b[0m\u001b[1;33m=\u001b[0m\u001b[1;36m9\u001b[0m\u001b[1;33m,\u001b[0m \u001b[0mdpi\u001b[0m\u001b[1;33m=\u001b[0m\u001b[1;36m300\u001b[0m\u001b[1;33m,\u001b[0m \u001b[0mtight\u001b[0m\u001b[1;33m=\u001b[0m\u001b[1;32mTrue\u001b[0m\u001b[1;33m)\u001b[0m\u001b[1;33m:\u001b[0m\u001b[1;33m\u001b[0m\u001b[1;33m\u001b[0m\u001b[0m\n",
      "\u001b[1;31mAttributeError\u001b[0m: 'Plot_OldSync' object has no attribute 'mpyplot'"
     ]
    }
   ],
   "source": [
    "class SmaCross(bt.SignalStrategy):\n",
    "  def __init__(self):\n",
    "    sma1, sma2 = bt.ind.SMA(period=10), bt.ind.SMA(period=30)\n",
    "    crossover = bt.ind.CrossOver(sma1, sma2)\n",
    "    self.signal_add(bt.SIGNAL_LONG, crossover)\n",
    "\n",
    "\n",
    "cerebro = bt.Cerebro()\n",
    "cerebro.addstrategy(SmaCross)\n",
    "\n",
    "store = alpaca_backtrader_api.AlpacaStore(\n",
    "    key_id=ALPACA_API_KEY,\n",
    "    secret_key=ALPACA_SECRET_KEY,\n",
    "    paper=ALPACA_PAPER\n",
    ")\n",
    "\n",
    "if not ALPACA_PAPER:\n",
    "  broker = store.getbroker()  # or just alpaca_backtrader_api.AlpacaBroker()\n",
    "  cerebro.setbroker(broker)\n",
    "\n",
    "DataFactory = store.getdata  # or use alpaca_backtrader_api.AlpacaData\n",
    "data0 = DataFactory(dataname='AAPL', historical=True, fromdate=datetime(\n",
    "    2015, 1, 1), timeframe=bt.TimeFrame.Days)\n",
    "cerebro.adddata(data0)\n",
    "\n",
    "print('Starting Portfolio Value: %.2f' % cerebro.broker.getvalue())\n",
    "cerebro.run()\n",
    "print('Final Portfolio Value: %.2f' % cerebro.broker.getvalue())\n",
    "cerebro.plot()"
   ]
  },
  {
   "cell_type": "code",
   "execution_count": null,
   "id": "aa6bae71",
   "metadata": {},
   "outputs": [],
   "source": []
  }
 ],
 "metadata": {
  "kernelspec": {
   "display_name": "Python 3",
   "language": "python",
   "name": "python3"
  },
  "language_info": {
   "codemirror_mode": {
    "name": "ipython",
    "version": 3
   },
   "file_extension": ".py",
   "mimetype": "text/x-python",
   "name": "python",
   "nbconvert_exporter": "python",
   "pygments_lexer": "ipython3",
   "version": "3.8.8"
  }
 },
 "nbformat": 4,
 "nbformat_minor": 5
}
