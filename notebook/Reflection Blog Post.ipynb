{
 "cells": [
  {
   "cell_type": "markdown",
   "id": "278edecc",
   "metadata": {},
   "source": [
    "Work as a Group (WSB): Linqiao Jiang, Chencong Ren"
   ]
  },
  {
   "cell_type": "markdown",
   "id": "d9f68a08",
   "metadata": {},
   "source": [
    "# •\tOverall, what did you achieve in your project? \n",
    "\n",
    "We developed machine learning models to predict the future price of stock and build a ready-to-use (semi-automatic\n",
    ") algorithmic trading program.   \n",
    "\n",
    "For machine learning models, there are two, one is original(initial) model and another one is modified model(final).And both of them are achieved by LSTM neutral network. It can be used to identify profitable opportunities and give a major trend of tomorrow's moving.\n",
    "\n",
    "The algorithmic trading program have 4 strategies and 1 analyzers. Strategies are manually chosen according to tmr's prediction by the machine learning model.\n",
    "\n",
    "\n",
    "# •\tWhat are two aspects of your project that you are especially proud of?\n",
    "\n",
    "1. The annual yield rate can be achieved `13%` when back testing.\n",
    "2. Machine learning model helps predict the future trend.\n",
    "\n",
    "\n",
    "# •\tWhat are two things you would suggest doing to further improve your project?\n",
    "\n",
    "1. Combine the predictor machine learning model with trader program fully automatically.\n",
    "2. The model will have more factors instead of just using time and price.\n",
    "\n",
    "\n",
    "# •\tHow does what you achieved compare to what you set out to do in your proposal? \n",
    "\n",
    "Basically completed. The model we completed can make a good prediction and the program do backtesting and will post orders to our paper trading brokerage account. And it has a good performance in the backtesting and should have considerable profit in real-time trading as well.\n",
    "\n",
    "\n",
    "# •\tWhat are three things you learned from the experience of completing your project? Data analysis techniques? Python packages? Git + GitHub? Etc? \n",
    "\n",
    "1. Backtrader, a Python package for backtesting.\n",
    "2. Time Series Modeling\n",
    "3. Use Github for group work. merging and reverting some changes are useful. And read issues and documents on the Github to fix bugs.\n",
    "\n",
    "\n",
    "# •\tHow will your experience completing this project will help you in your future studies or career? Please be as specific as possible.\n",
    "\n",
    "After this project, we got to know more about the specific application of machine learning in finance (stock market) and the changes in quantitative investment. The traditional quantitative investment strategy is to establish a variety of mathematical models in a variety of financial data to try to find the rules of the market. Whether based on human experience or mathematical models, the results obtained so far are mediocre. But now we can use machine learning to dramatically improve the efficiency of data mining and processing. In this way, quantitative investment strategies will become richer and trading efficiency and return will be greatly improved. This makes us become more eager to conduct more research on AI development in the field of quantitative investing."
   ]
  }
 ],
 "metadata": {
  "kernelspec": {
   "display_name": "Python 3",
   "language": "python",
   "name": "python3"
  },
  "language_info": {
   "codemirror_mode": {
    "name": "ipython",
    "version": 3
   },
   "file_extension": ".py",
   "mimetype": "text/x-python",
   "name": "python",
   "nbconvert_exporter": "python",
   "pygments_lexer": "ipython3",
   "version": "3.8.8"
  }
 },
 "nbformat": 4,
 "nbformat_minor": 5
}
