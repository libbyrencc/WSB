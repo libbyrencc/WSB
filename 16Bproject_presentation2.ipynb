{
  "nbformat": 4,
  "nbformat_minor": 0,
  "metadata": {
    "colab": {
      "name": "16Bproject_presentation2.ipynb",
      "provenance": [],
      "collapsed_sections": []
    },
    "kernelspec": {
      "name": "python3",
      "display_name": "Python 3"
    },
    "language_info": {
      "name": "python"
    }
  },
  "cells": [
    {
      "cell_type": "code",
      "metadata": {
        "colab": {
          "base_uri": "https://localhost:8080/"
        },
        "id": "9iJxEEK53GMx",
        "outputId": "c3bad142-7b23-4f62-b928-aeb8d3a8bffd"
      },
      "source": [
        "!pip install alpaca_trade_api"
      ],
      "execution_count": 1,
      "outputs": [
        {
          "output_type": "stream",
          "name": "stdout",
          "text": [
            "Collecting alpaca_trade_api\n",
            "  Downloading alpaca_trade_api-1.4.1-py3-none-any.whl (36 kB)\n",
            "Collecting aiohttp==3.7.4\n",
            "  Downloading aiohttp-3.7.4-cp37-cp37m-manylinux2014_x86_64.whl (1.3 MB)\n",
            "\u001b[K     |████████████████████████████████| 1.3 MB 36.6 MB/s \n",
            "\u001b[?25hCollecting websocket-client<2,>=0.56.0\n",
            "  Downloading websocket_client-1.2.1-py2.py3-none-any.whl (52 kB)\n",
            "\u001b[K     |████████████████████████████████| 52 kB 950 kB/s \n",
            "\u001b[?25hRequirement already satisfied: pandas>=0.18.1 in /usr/local/lib/python3.7/dist-packages (from alpaca_trade_api) (1.1.5)\n",
            "Requirement already satisfied: urllib3<2,>1.24 in /usr/local/lib/python3.7/dist-packages (from alpaca_trade_api) (1.24.3)\n",
            "Collecting PyYAML==5.4.1\n",
            "  Downloading PyYAML-5.4.1-cp37-cp37m-manylinux1_x86_64.whl (636 kB)\n",
            "\u001b[K     |████████████████████████████████| 636 kB 33.6 MB/s \n",
            "\u001b[?25hRequirement already satisfied: msgpack==1.0.2 in /usr/local/lib/python3.7/dist-packages (from alpaca_trade_api) (1.0.2)\n",
            "Requirement already satisfied: requests<3,>2 in /usr/local/lib/python3.7/dist-packages (from alpaca_trade_api) (2.23.0)\n",
            "Requirement already satisfied: numpy>=1.11.1 in /usr/local/lib/python3.7/dist-packages (from alpaca_trade_api) (1.19.5)\n",
            "Collecting websockets<10,>=8.0\n",
            "  Downloading websockets-9.1-cp37-cp37m-manylinux2010_x86_64.whl (103 kB)\n",
            "\u001b[K     |████████████████████████████████| 103 kB 46.0 MB/s \n",
            "\u001b[?25hRequirement already satisfied: typing-extensions>=3.6.5 in /usr/local/lib/python3.7/dist-packages (from aiohttp==3.7.4->alpaca_trade_api) (3.10.0.2)\n",
            "Requirement already satisfied: chardet<4.0,>=2.0 in /usr/local/lib/python3.7/dist-packages (from aiohttp==3.7.4->alpaca_trade_api) (3.0.4)\n",
            "Collecting multidict<7.0,>=4.5\n",
            "  Downloading multidict-5.2.0-cp37-cp37m-manylinux_2_5_x86_64.manylinux1_x86_64.manylinux_2_12_x86_64.manylinux2010_x86_64.whl (160 kB)\n",
            "\u001b[K     |████████████████████████████████| 160 kB 38.3 MB/s \n",
            "\u001b[?25hRequirement already satisfied: attrs>=17.3.0 in /usr/local/lib/python3.7/dist-packages (from aiohttp==3.7.4->alpaca_trade_api) (21.2.0)\n",
            "Collecting async-timeout<4.0,>=3.0\n",
            "  Downloading async_timeout-3.0.1-py3-none-any.whl (8.2 kB)\n",
            "Collecting yarl<2.0,>=1.0\n",
            "  Downloading yarl-1.7.2-cp37-cp37m-manylinux_2_5_x86_64.manylinux1_x86_64.manylinux_2_12_x86_64.manylinux2010_x86_64.whl (271 kB)\n",
            "\u001b[K     |████████████████████████████████| 271 kB 55.6 MB/s \n",
            "\u001b[?25hRequirement already satisfied: pytz>=2017.2 in /usr/local/lib/python3.7/dist-packages (from pandas>=0.18.1->alpaca_trade_api) (2018.9)\n",
            "Requirement already satisfied: python-dateutil>=2.7.3 in /usr/local/lib/python3.7/dist-packages (from pandas>=0.18.1->alpaca_trade_api) (2.8.2)\n",
            "Requirement already satisfied: six>=1.5 in /usr/local/lib/python3.7/dist-packages (from python-dateutil>=2.7.3->pandas>=0.18.1->alpaca_trade_api) (1.15.0)\n",
            "Requirement already satisfied: certifi>=2017.4.17 in /usr/local/lib/python3.7/dist-packages (from requests<3,>2->alpaca_trade_api) (2021.10.8)\n",
            "Requirement already satisfied: idna<3,>=2.5 in /usr/local/lib/python3.7/dist-packages (from requests<3,>2->alpaca_trade_api) (2.10)\n",
            "Installing collected packages: multidict, yarl, async-timeout, websockets, websocket-client, PyYAML, aiohttp, alpaca-trade-api\n",
            "  Attempting uninstall: PyYAML\n",
            "    Found existing installation: PyYAML 3.13\n",
            "    Uninstalling PyYAML-3.13:\n",
            "      Successfully uninstalled PyYAML-3.13\n",
            "Successfully installed PyYAML-5.4.1 aiohttp-3.7.4 alpaca-trade-api-1.4.1 async-timeout-3.0.1 multidict-5.2.0 websocket-client-1.2.1 websockets-9.1 yarl-1.7.2\n"
          ]
        }
      ]
    },
    {
      "cell_type": "code",
      "metadata": {
        "colab": {
          "base_uri": "https://localhost:8080/"
        },
        "id": "91uQdYrHyw0k",
        "outputId": "3054f85b-42d4-4f8f-d7df-5d8d3350452d"
      },
      "source": [
        "!pip install alpaca_backtrader_api"
      ],
      "execution_count": 2,
      "outputs": [
        {
          "output_type": "stream",
          "name": "stdout",
          "text": [
            "Collecting alpaca_backtrader_api\n",
            "  Downloading alpaca_backtrader_api-0.14.1-py3-none-any.whl (23 kB)\n",
            "Collecting backtrader==1.9.76.123\n",
            "  Downloading backtrader-1.9.76.123-py2.py3-none-any.whl (410 kB)\n",
            "\u001b[K     |████████████████████████████████| 410 kB 42.7 MB/s \n",
            "\u001b[?25hCollecting alpaca-trade-api==1.2.3\n",
            "  Downloading alpaca_trade_api-1.2.3-py3-none-any.whl (40 kB)\n",
            "\u001b[K     |████████████████████████████████| 40 kB 5.9 MB/s \n",
            "\u001b[?25hCollecting trading-calendars==2.1.1\n",
            "  Downloading trading_calendars-2.1.1.tar.gz (108 kB)\n",
            "\u001b[K     |████████████████████████████████| 108 kB 58.0 MB/s \n",
            "\u001b[?25hRequirement already satisfied: websockets<10,>=8.0 in /usr/local/lib/python3.7/dist-packages (from alpaca-trade-api==1.2.3->alpaca_backtrader_api) (9.1)\n",
            "Requirement already satisfied: requests<3,>2 in /usr/local/lib/python3.7/dist-packages (from alpaca-trade-api==1.2.3->alpaca_backtrader_api) (2.23.0)\n",
            "Requirement already satisfied: numpy in /usr/local/lib/python3.7/dist-packages (from alpaca-trade-api==1.2.3->alpaca_backtrader_api) (1.19.5)\n",
            "Requirement already satisfied: msgpack==1.0.2 in /usr/local/lib/python3.7/dist-packages (from alpaca-trade-api==1.2.3->alpaca_backtrader_api) (1.0.2)\n",
            "Requirement already satisfied: urllib3<2,>1.24 in /usr/local/lib/python3.7/dist-packages (from alpaca-trade-api==1.2.3->alpaca_backtrader_api) (1.24.3)\n",
            "Requirement already satisfied: pandas in /usr/local/lib/python3.7/dist-packages (from alpaca-trade-api==1.2.3->alpaca_backtrader_api) (1.1.5)\n",
            "Requirement already satisfied: websocket-client<2,>=0.56.0 in /usr/local/lib/python3.7/dist-packages (from alpaca-trade-api==1.2.3->alpaca_backtrader_api) (1.2.1)\n",
            "Requirement already satisfied: python-dateutil in /usr/local/lib/python3.7/dist-packages (from trading-calendars==2.1.1->alpaca_backtrader_api) (2.8.2)\n",
            "Requirement already satisfied: pytz in /usr/local/lib/python3.7/dist-packages (from trading-calendars==2.1.1->alpaca_backtrader_api) (2018.9)\n",
            "Requirement already satisfied: six in /usr/local/lib/python3.7/dist-packages (from trading-calendars==2.1.1->alpaca_backtrader_api) (1.15.0)\n",
            "Requirement already satisfied: toolz in /usr/local/lib/python3.7/dist-packages (from trading-calendars==2.1.1->alpaca_backtrader_api) (0.11.2)\n",
            "Requirement already satisfied: idna<3,>=2.5 in /usr/local/lib/python3.7/dist-packages (from requests<3,>2->alpaca-trade-api==1.2.3->alpaca_backtrader_api) (2.10)\n",
            "Requirement already satisfied: chardet<4,>=3.0.2 in /usr/local/lib/python3.7/dist-packages (from requests<3,>2->alpaca-trade-api==1.2.3->alpaca_backtrader_api) (3.0.4)\n",
            "Requirement already satisfied: certifi>=2017.4.17 in /usr/local/lib/python3.7/dist-packages (from requests<3,>2->alpaca-trade-api==1.2.3->alpaca_backtrader_api) (2021.10.8)\n",
            "Building wheels for collected packages: trading-calendars\n",
            "  Building wheel for trading-calendars (setup.py) ... \u001b[?25l\u001b[?25hdone\n",
            "  Created wheel for trading-calendars: filename=trading_calendars-2.1.1-py3-none-any.whl size=140937 sha256=9f53711c52d9e0f3b52caff19cd728d6a19f17c831201e72de9efa52e0d66168\n",
            "  Stored in directory: /root/.cache/pip/wheels/62/9c/d1/46a21e1b99e064cba79b85e9f95e6a208ac5ba4c29ae5962ec\n",
            "Successfully built trading-calendars\n",
            "Installing collected packages: trading-calendars, backtrader, alpaca-trade-api, alpaca-backtrader-api\n",
            "  Attempting uninstall: alpaca-trade-api\n",
            "    Found existing installation: alpaca-trade-api 1.4.1\n",
            "    Uninstalling alpaca-trade-api-1.4.1:\n",
            "      Successfully uninstalled alpaca-trade-api-1.4.1\n",
            "Successfully installed alpaca-backtrader-api-0.14.1 alpaca-trade-api-1.2.3 backtrader-1.9.76.123 trading-calendars-2.1.1\n"
          ]
        }
      ]
    },
    {
      "cell_type": "markdown",
      "metadata": {
        "id": "i6sedByWIT7a"
      },
      "source": [
        "**Our strategy is that if the 1-minute average is above the 20-minute average, we are going to buy it. Otherwise, clear the stock. This strategy will run every minute.**"
      ]
    },
    {
      "cell_type": "code",
      "metadata": {
        "id": "HpClKYca3aMx"
      },
      "source": [
        "API_KEY = \"PK8SSSXD3FX164IYREJ5\"\n",
        "SECRET_KEY = \"NPKEgtQyt3fsRodbOqn4d46V19XI5W9S8Cv64dDT\""
      ],
      "execution_count": 12,
      "outputs": []
    },
    {
      "cell_type": "code",
      "metadata": {
        "id": "shLxgpgn3O5N"
      },
      "source": [
        "import datetime\n",
        "import time\n",
        "\n",
        "import alpaca_trade_api as tradeapi\n",
        "import numpy as np\n",
        "import pandas as pd\n",
        "\n",
        "pd.options.display.max_rows = 999\n",
        "pd.set_option('display.max_columns', None)\n",
        "\n",
        "from datetime import timedelta\n",
        "\n",
        "from pytz import timezone\n",
        "\n",
        "tz = timezone('EST')\n",
        "\n",
        "api = tradeapi.REST(API_KEY,\n",
        "                    SECRET_KEY,\n",
        "                    'https://paper-api.alpaca.markets')\n",
        "\n",
        "import logging\n",
        "\n",
        "# setting the length of moving average and checking the frequency\n",
        "slow = 20\n",
        "fast = 1\n",
        "\n",
        "freq = '1Min'\n",
        "\n"
      ],
      "execution_count": 13,
      "outputs": []
    },
    {
      "cell_type": "markdown",
      "metadata": {
        "id": "l2bFMx99IaWt"
      },
      "source": [
        "Here is the ticker we want to trade and the number of purchases"
      ]
    },
    {
      "cell_type": "code",
      "metadata": {
        "id": "VnOOSM4C3RSC"
      },
      "source": [
        "#select stock and BUY NUMBER FOR EACH PURCHASE #\n",
        "loading = {'AA': 300, 'AAL': 300, 'UAL': 300, 'NIO': 250, 'AMD': 300, 'NCLH': 200, 'BYND': 200, 'DAL': 500, 'ATVI': 300,\n",
        "        'WORK': 200, 'VIRT': 200, 'AAPL': 300, 'AMC': 200, 'TSLA': 80, 'NKLA': 180, 'XPEV': 100, 'NVDA': 50,\n",
        "           'LMT': 80, 'ZM': 80, 'DOCU': 100, 'TWLO': 100, 'CRWD': 100, 'EAR': 80, 'SNOW': 80, 'TWTR': 400, 'EA': 250,\n",
        "           'ABBV': 200, 'CRSR': 1000, 'PFE': 500, 'PDD': 200, 'LI': 200, 'DISCK':80 }\n",
        "\n",
        "# create a list to hold only stock symbols #\n",
        "symbols = list(loading)"
      ],
      "execution_count": null,
      "outputs": []
    },
    {
      "cell_type": "markdown",
      "metadata": {
        "id": "0oLQRUTlIf1P"
      },
      "source": [
        "Then, we are ready to write our strategy."
      ]
    },
    {
      "cell_type": "code",
      "metadata": {
        "id": "Bvi_TNAb3gwn"
      },
      "source": [
        "def get_data_bars(symbols, rate, slow, fast):\n",
        "    # generate log to keep track of every transaction\n",
        "    logging.basicConfig(filename='log/{}.log'.format(time.strftime(\"%Y%m%d\")))\n",
        "    logging.warning('{} logging started'.format(datetime.datetime.now().strftime(\"%x %X\")))\n",
        "\n",
        "    # combine the price per minute and volume of all stocks into a dataframe \n",
        "\n",
        "    # use API to generate the dataframe including the final prices and volume\n",
        "    try:\n",
        "        data = api.get_barset(symbols, rate, limit=20).df\n",
        " \n",
        "        # the data that has been accquired\n",
        "        ticker = [x.symbol for x in api.list_positions()]  # the stock ticker \n",
        "        qty = [x.qty for x in api.list_positions()]        # positions\n",
        "        avg_entry_price = [x.avg_entry_price for x in api.list_positions()]\n",
        "        my_position = dict(zip(ticker, qty))\n",
        "        entry_price = dict(zip(ticker, avg_entry_price))\n",
        "\n",
        "        # \"fast_ema_1min\" is average price per minute\n",
        "        # \"loading\" is the number of shares\n",
        "        # \"PL\" is profit and loss \n",
        "        for x in (list(loading)):\n",
        "\n",
        "            data.loc[:, (x, 'fast_ema_1min')] = data[x]['close'].rolling(window=fast).mean()\n",
        "            data.loc[:, (x, 'slow_ema_20min')] = data[x]['close'].rolling(window=slow).mean()\n",
        "            data.loc[:, (x, 'return_1_min')] = (data[x]['close']- data[x]['close'].shift(1))/(data[x]['close'].shift(1))\n",
        "            data.loc[:, (x, 'diff')] = data[x]['slow_ema_20min'] - data[x]['fast_ema_1min']\n",
        "            data.loc[:, (x, 'loading')] = int(loading[x])\n",
        "\n",
        "            if x in ticker:\n",
        "                data.loc[:, (x, 'qty')] = int(my_position[x])\n",
        "                data.loc[:, (x, 'entry_price')] = float(entry_price[x])\n",
        "            else:\n",
        "                data.loc[:, (x, 'qty')] = 0\n",
        "                data.loc[:, (x, 'entry_price')] = data[x]['close']\n",
        "            data.loc[:, (x, 'PL')] = (data[x]['close'] - data[x]['entry_price']) * (data[x]['qty'])\n",
        "\n",
        "        data.fillna(method='ffill', inplace=True)\n",
        "        return data\n",
        "    except:\n",
        "        print(\"There might be connection errors\")\n",
        "        pass"
      ],
      "execution_count": null,
      "outputs": []
    },
    {
      "cell_type": "markdown",
      "metadata": {
        "id": "QoX2jfFEItgA"
      },
      "source": [
        "Next, we check all selected stocks against the data in the dataframe and generate **trading signals**."
      ]
    },
    {
      "cell_type": "code",
      "metadata": {
        "id": "1Y7rXYB53jF6"
      },
      "source": [
        "def get_signal_bars(symbol_list, rate, ema_slow, ema_fast):\n",
        "    now = datetime.datetime.now()\n",
        "    data = get_data_bars(symbol_list, rate, ema_slow, ema_fast)\n",
        "\n",
        "    signals = {}\n",
        "    for x in symbol_list:    \n",
        "        # When the one-minute average price exceeds the 20-minute average price,\n",
        "        # Buy into!\n",
        "        if (data[x].iloc[-1]['fast_ema_1min'] >= data[x].iloc[-1]['slow_ema_20min']):\n",
        "            signal = (data[x].iloc[-1]['loading'])\n",
        "\n",
        "        # When the one-minute average price falls below the 20-minute average price,\n",
        "        # Clear the stock!\n",
        "        else:\n",
        "            signal = (data[x].iloc[-1]['qty'])*(-1)\n",
        "        signals[x] = signal\n",
        "\n",
        "    return signals"
      ],
      "execution_count": null,
      "outputs": []
    },
    {
      "cell_type": "markdown",
      "metadata": {
        "id": "H4R3uPZiIvzn"
      },
      "source": [
        "U.S. markets open Monday through Friday from 9:30 a.m. to 4 p.m. Est. The function below adjusts the running time of the code."
      ]
    },
    {
      "cell_type": "code",
      "metadata": {
        "id": "FbOR_nUB3ktK"
      },
      "source": [
        "def time_to_open(current_time):\n",
        "    if current_time.weekday() <= 4:\n",
        "        d = (current_time + timedelta(days=1)).date()\n",
        "    else:\n",
        "        days_to_mon = 0 - current_time.weekday() + 7\n",
        "        d = (current_time + timedelta(days=days_to_mon)).date()\n",
        "    next_day = datetime.datetime.combine(d, datetime.time(8, 30, tzinfo=tz))\n",
        "    seconds = (next_day - current_time).total_seconds()\n",
        "    return seconds"
      ],
      "execution_count": null,
      "outputs": []
    },
    {
      "cell_type": "markdown",
      "metadata": {
        "id": "qHXTqcOKI3iT"
      },
      "source": [
        "We are done. Let's run the program."
      ]
    },
    {
      "cell_type": "code",
      "metadata": {
        "id": "VuH6UQH73nA6"
      },
      "source": [
        "def run_checker(stocklist):\n",
        "    print('run_checker started')\n",
        "    while True:\n",
        "        # Check if today is a trading day(Monday - Friday)\n",
        "        if datetime.datetime.now(tz).weekday() >= 0 and datetime.datetime.now(tz).weekday() <= 4:\n",
        "            # Checks if market is open now\n",
        "            print('Trading in process '+ datetime.datetime.now().strftime(\"%x %X\"))\n",
        "            if datetime.datetime.now(tz).time() > datetime.time(8,30) and datetime.datetime.now(tz).time() <= datetime.time(15, 00):\n",
        "                signals = get_signal_bars(stocklist, freq, slow, fast)\n",
        "                for signal in signals:\n",
        "                    if signals[signal] > 0:\n",
        "                        \n",
        "                        try:\n",
        "                            api.submit_order(signal, signals[signal], 'buy', 'market', 'day')\n",
        "                            print('{} bought {}  {} shares, portfolio value {}   '.format(datetime.datetime.now(tz).strftime(\"%x %X\"), signal, signals[signal], api.get_account().equity))\n",
        "                            # Record purchases of stocks\n",
        "                            logging.warning('{} bought {}  {} shares, portfolio value {}   '.format(datetime.datetime.now(tz).strftime(\"%x %X\"),\n",
        "                                                                                                            signal, signals[signal], api.get_account().equity))\n",
        "                        except:\n",
        "                            # Record if underfunding\n",
        "                            logging.warning('{} Insufficient buying power'.format(datetime.datetime.now(tz).strftime(\"%x %X\")))\n",
        "                            print('Trading in process '+ datetime.datetime.now().strftime(\"%x %X\") + ' buying ' + signal + ' but Insufficient fund')\n",
        "                            pass\n",
        "                    elif signals[signal] < 0:\n",
        "                        try:\n",
        "                            api.submit_order(signal, -signals[signal], 'sell', 'market', 'day')\n",
        "                            print('{} sold   {} {} shares, portfolio value {}   '.format(datetime.datetime.now(tz).strftime(\"%x %X\"), signal, signals[signal], api.get_account().equity))\n",
        "                            # Record sales of stocks\n",
        "                            logging.warning('{} sold   {} {} shares, portfolio value {}   '.format(datetime.datetime.now(tz).strftime(\"%x %X\"), signal, signals[signal], api.get_account().equity))\n",
        "                        except Exception as e:\n",
        "                            pass\n",
        "                           # Rest for 60 seconds before regenerating the signal\n",
        "                time.sleep(60)\n",
        "\n",
        "            else:\n",
        "                # The program stops running until the market opens \n",
        "                # Get time amount until open, sleep that amount\n",
        "                print('Market closed ({})'.format(datetime.datetime.now(tz)))\n",
        "                print('Sleeping', round(time_to_open(datetime.datetime.now(tz))/60/60, 2), 'hours')\n",
        "                time.sleep(time_to_open(datetime.datetime.now(tz)))"
      ],
      "execution_count": null,
      "outputs": []
    },
    {
      "cell_type": "code",
      "metadata": {
        "id": "5DhLUMDj3oqa",
        "colab": {
          "base_uri": "https://localhost:8080/"
        },
        "outputId": "53e4bd25-c3e5-4aa4-f8ed-19cfa40ea961"
      },
      "source": [
        "if __name__ == \"__main__\":\n",
        "    run_checker(symbols)"
      ],
      "execution_count": null,
      "outputs": [
        {
          "metadata": {
            "tags": null
          },
          "name": "stdout",
          "output_type": "stream",
          "text": [
            "run_checker started\n",
            "Trading in process 11/16/21 00:03:05\n",
            "Market closed (2021-11-15 19:03:05.049131-05:00)\n",
            "Sleeping 13.45 hours\n"
          ]
        }
      ]
    },
    {
      "cell_type": "markdown",
      "metadata": {
        "id": "naXUkIWPI_m1"
      },
      "source": [
        "The key columns for the Alpaca API's native dataframe are price and volume. However, we extracted the key information from the object and incorporated it into the dataframe. For example, we have merged the qty and avg_entry_price of each stock into the dataframe to generate signals."
      ]
    },
    {
      "cell_type": "code",
      "metadata": {
        "id": "OeWeD1khQDw0"
      },
      "source": [
        ""
      ],
      "execution_count": null,
      "outputs": []
    }
  ]
}