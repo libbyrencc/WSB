{
 "cells": [
  {
   "attachments": {},
   "cell_type": "markdown",
   "id": "d9f68a08",
   "metadata": {},
   "source": [
    "# •\tOverall, what did you achieve in your project? \n",
    "\n",
    "We developed an algorithmic trading program on Alpaca that including two machine learning model, one is original(initial) model and another one is modified model(final). It can be used to identify profitable opportunities and automatically place daily buy and sell orders.\n",
    "\n",
    "\n",
    "# •\tWhat are two aspects of your project that you are especially proud of?\n",
    "\n",
    "1. The annual interest rate can be achieved `(…)` by using our modified model.\n",
    "2. We did cool visualization of the trading process using specific Python packages\n",
    "\n",
    "\n",
    "# •\tWhat are two things you would suggest doing to further improve your project?\n",
    "\n",
    "1. Provide more stock market trading environment while training the model\n",
    "2. Build our trading framework using libraries that contain reinforcement learning algorithms, such as FinRL\n",
    "\n",
    "\n",
    "# •\tHow does what you achieved compare to what you set out to do in your proposal? \n",
    "\n",
    "Basically completed. The model we completed can make a better prediction and will post orders to our paper trading brokerage account. And it has a good performance in the backtesting and has relatively considerable profit in real-time trading as well.\n",
    "\n",
    "\n",
    "# •\tWhat are three things you learned from the experience of completing your project? Data analysis techniques? Python packages? Git + GitHub? Etc? \n",
    "\n",
    "1. Backtrader, a Python package\n",
    "2. Some basic trading strategy, such as Contrarian investing\n",
    "3. Understand how to read day trading charts and patterns\n",
    "\n",
    "\n",
    "# •\tHow will your experience completing this project will help you in your future studies or career? Please be as specific as possible.\n",
    "\n",
    "After this project, we got to know more about the specific application of machine learning in finance (stock market) and the changes in quantitative investment. The traditional quantitative investment strategy is to establish a variety of mathematical models in a variety of financial data to try to find the rules of the market. Whether based on human experience or mathematical models, the results obtained so far are mediocre. But now we can use machine learning to dramatically improve the efficiency of data mining and processing. In this way, quantitative investment strategies will become richer and trading efficiency and return will be greatly improved. This makes us become more eager to conduct more research on AI development in the field of quantitative investing."
   ]
  },
  {
   "cell_type": "code",
   "execution_count": null,
   "id": "ad4b806e",
   "metadata": {},
   "outputs": [],
   "source": []
  }
 ],
 "metadata": {
  "kernelspec": {
   "display_name": "Python 3 (ipykernel)",
   "language": "python",
   "name": "python3"
  },
  "language_info": {
   "codemirror_mode": {
    "name": "ipython",
    "version": 3
   },
   "file_extension": ".py",
   "mimetype": "text/x-python",
   "name": "python",
   "nbconvert_exporter": "python",
   "pygments_lexer": "ipython3",
   "version": "3.8.12"
  }
 },
 "nbformat": 4,
 "nbformat_minor": 5
}
