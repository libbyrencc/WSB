{
 "cells": [
  {
   "cell_type": "code",
   "execution_count": 1,
   "metadata": {},
   "outputs": [],
   "source": [
    "import alpaca_backtrader_api\n",
    "import backtrader as bt\n",
    "from datetime import datetime, timedelta\n",
    "import pandas as pd\n",
    "import numpy as np\n",
    "import matplotlib.pyplot as plt\n",
    "import tensorflow as tf\n",
    "from tensorflow.keras import utils, datasets, layers, models\n",
    "from sklearn.preprocessing import MinMaxScaler\n",
    "from keras.models import Sequential\n",
    "from keras.layers import Dense, Dropout, LSTM"
   ]
  },
  {
   "cell_type": "code",
   "execution_count": 2,
   "metadata": {},
   "outputs": [],
   "source": [
    "ALPACA_API_KEY =\"PK8SSSXD3FX164IYREJ5\"\n",
    "ALPACA_SECRET_KEY =\"NPKEgtQyt3fsRodbOqn4d46V19XI5W9S8Cv64dDT\"\n",
    "ALPACA_PAPER = True"
   ]
  },
  {
   "cell_type": "code",
   "execution_count": 3,
   "metadata": {},
   "outputs": [],
   "source": [
    "from alpaca_trade_api.rest import REST, TimeFrame\n",
    "api = REST(ALPACA_API_KEY,\n",
    "           ALPACA_SECRET_KEY,\n",
    "           'https://paper-api.alpaca.amrkets'\n",
    "          )\n"
   ]
  },
  {
   "cell_type": "code",
   "execution_count": 4,
   "metadata": {},
   "outputs": [
    {
     "data": {
      "text/html": [
       "<div>\n",
       "<style scoped>\n",
       "    .dataframe tbody tr th:only-of-type {\n",
       "        vertical-align: middle;\n",
       "    }\n",
       "\n",
       "    .dataframe tbody tr th {\n",
       "        vertical-align: top;\n",
       "    }\n",
       "\n",
       "    .dataframe thead th {\n",
       "        text-align: right;\n",
       "    }\n",
       "</style>\n",
       "<table border=\"1\" class=\"dataframe\">\n",
       "  <thead>\n",
       "    <tr style=\"text-align: right;\">\n",
       "      <th></th>\n",
       "      <th>Datetime</th>\n",
       "      <th>Close</th>\n",
       "    </tr>\n",
       "  </thead>\n",
       "  <tbody>\n",
       "    <tr>\n",
       "      <th>0</th>\n",
       "      <td>2019-01-14 00:00:00-05:00</td>\n",
       "      <td>257.69</td>\n",
       "    </tr>\n",
       "    <tr>\n",
       "      <th>1</th>\n",
       "      <td>2019-01-15 00:00:00-05:00</td>\n",
       "      <td>260.21</td>\n",
       "    </tr>\n",
       "    <tr>\n",
       "      <th>2</th>\n",
       "      <td>2019-01-16 00:00:00-05:00</td>\n",
       "      <td>260.94</td>\n",
       "    </tr>\n",
       "    <tr>\n",
       "      <th>3</th>\n",
       "      <td>2019-01-17 00:00:00-05:00</td>\n",
       "      <td>262.88</td>\n",
       "    </tr>\n",
       "    <tr>\n",
       "      <th>4</th>\n",
       "      <td>2019-01-18 00:00:00-05:00</td>\n",
       "      <td>266.16</td>\n",
       "    </tr>\n",
       "    <tr>\n",
       "      <th>...</th>\n",
       "      <td>...</td>\n",
       "      <td>...</td>\n",
       "    </tr>\n",
       "    <tr>\n",
       "      <th>725</th>\n",
       "      <td>2021-11-29 00:00:00-05:00</td>\n",
       "      <td>464.63</td>\n",
       "    </tr>\n",
       "    <tr>\n",
       "      <th>726</th>\n",
       "      <td>2021-11-30 00:00:00-05:00</td>\n",
       "      <td>455.78</td>\n",
       "    </tr>\n",
       "    <tr>\n",
       "      <th>727</th>\n",
       "      <td>2021-12-01 00:00:00-05:00</td>\n",
       "      <td>450.53</td>\n",
       "    </tr>\n",
       "    <tr>\n",
       "      <th>728</th>\n",
       "      <td>2021-12-02 00:00:00-05:00</td>\n",
       "      <td>457.38</td>\n",
       "    </tr>\n",
       "    <tr>\n",
       "      <th>729</th>\n",
       "      <td>2021-12-03 00:00:00-05:00</td>\n",
       "      <td>452.85</td>\n",
       "    </tr>\n",
       "  </tbody>\n",
       "</table>\n",
       "<p>730 rows × 2 columns</p>\n",
       "</div>"
      ],
      "text/plain": [
       "                     Datetime   Close\n",
       "0   2019-01-14 00:00:00-05:00  257.69\n",
       "1   2019-01-15 00:00:00-05:00  260.21\n",
       "2   2019-01-16 00:00:00-05:00  260.94\n",
       "3   2019-01-17 00:00:00-05:00  262.88\n",
       "4   2019-01-18 00:00:00-05:00  266.16\n",
       "..                        ...     ...\n",
       "725 2021-11-29 00:00:00-05:00  464.63\n",
       "726 2021-11-30 00:00:00-05:00  455.78\n",
       "727 2021-12-01 00:00:00-05:00  450.53\n",
       "728 2021-12-02 00:00:00-05:00  457.38\n",
       "729 2021-12-03 00:00:00-05:00  452.85\n",
       "\n",
       "[730 rows x 2 columns]"
      ]
     },
     "execution_count": 4,
     "metadata": {},
     "output_type": "execute_result"
    }
   ],
   "source": [
    "# obtain 2-year data from a specific stock\n",
    "symbol = 'SPY'\n",
    "bar = api.get_barset(symbol, 'day', limit=730)\n",
    "\n",
    "c = []\n",
    "t = []\n",
    "idx = []\n",
    "\n",
    "for i in range(len(bar[symbol])):\n",
    "    temp_c = c.append(bar[symbol][i].c) \n",
    "    temp_t = t.append(bar[symbol][i].t)\n",
    "    temp_idx = idx.append(i)\n",
    "    i = i + 1\n",
    "\n",
    "df_bar_t = pd.DataFrame(t, idx,columns = ['Datetime'])\n",
    "df_bar_c = pd.DataFrame(c, idx, columns = ['Close'])\n",
    "\n",
    "new_data = pd.merge(df_bar_t,df_bar_c, left_index = True, right_index = True)\n",
    "new_data"
   ]
  },
  {
   "cell_type": "code",
   "execution_count": 5,
   "metadata": {},
   "outputs": [
    {
     "name": "stdout",
     "output_type": "stream",
     "text": [
      "                     Datetime   Close\n",
      "0   2019-01-14 00:00:00-05:00  257.69\n",
      "1   2019-01-15 00:00:00-05:00  260.21\n",
      "2   2019-01-16 00:00:00-05:00  260.94\n",
      "3   2019-01-17 00:00:00-05:00  262.88\n",
      "4   2019-01-18 00:00:00-05:00  266.16\n",
      "..                        ...     ...\n",
      "726 2021-11-30 00:00:00-05:00  455.78\n",
      "727 2021-12-01 00:00:00-05:00  450.53\n",
      "728 2021-12-02 00:00:00-05:00  457.38\n",
      "729 2021-12-03 00:00:00-05:00  452.85\n",
      "730 2021-12-04 00:00:00-05:00  452.85\n",
      "\n",
      "[731 rows x 2 columns]\n"
     ]
    }
   ],
   "source": [
    "def add_nextdate(data):\n",
    "    date=data.iloc[-1][0]\n",
    "    price_fake= data.iloc[-1][1]\n",
    "    date_n=date+timedelta(days=1)\n",
    "    data.loc[len(data.index)]=[date_n,price_fake]\n",
    "    print(data)\n",
    "add_nextdate(new_data)"
   ]
  },
  {
   "cell_type": "code",
   "execution_count": 8,
   "metadata": {},
   "outputs": [
    {
     "name": "stdout",
     "output_type": "stream",
     "text": [
      "                         Date   Close\n",
      "0   2019-01-14 00:00:00-05:00  257.69\n",
      "1   2019-01-15 00:00:00-05:00  260.21\n",
      "2   2019-01-16 00:00:00-05:00  260.94\n",
      "3   2019-01-17 00:00:00-05:00  262.88\n",
      "4   2019-01-18 00:00:00-05:00  266.16\n",
      "..                        ...     ...\n",
      "726 2021-11-30 00:00:00-05:00  455.78\n",
      "727 2021-12-01 00:00:00-05:00  450.53\n",
      "728 2021-12-02 00:00:00-05:00  457.38\n",
      "729 2021-12-03 00:00:00-05:00  453.14\n",
      "730 2021-12-04 00:00:00-05:00  453.14\n",
      "\n",
      "[731 rows x 2 columns]\n",
      "Epoch 1/15\n",
      "15/15 - 4s - loss: 0.0411 - 4s/epoch - 253ms/step\n",
      "Epoch 2/15\n",
      "15/15 - 1s - loss: 0.0069 - 645ms/epoch - 43ms/step\n",
      "Epoch 3/15\n",
      "15/15 - 1s - loss: 0.0046 - 610ms/epoch - 41ms/step\n",
      "Epoch 4/15\n",
      "15/15 - 1s - loss: 0.0045 - 615ms/epoch - 41ms/step\n",
      "Epoch 5/15\n",
      "15/15 - 1s - loss: 0.0036 - 609ms/epoch - 41ms/step\n",
      "Epoch 6/15\n",
      "15/15 - 1s - loss: 0.0034 - 610ms/epoch - 41ms/step\n",
      "Epoch 7/15\n",
      "15/15 - 1s - loss: 0.0031 - 646ms/epoch - 43ms/step\n",
      "Epoch 8/15\n",
      "15/15 - 1s - loss: 0.0030 - 650ms/epoch - 43ms/step\n",
      "Epoch 9/15\n",
      "15/15 - 1s - loss: 0.0030 - 663ms/epoch - 44ms/step\n",
      "Epoch 10/15\n",
      "15/15 - 1s - loss: 0.0031 - 580ms/epoch - 39ms/step\n",
      "Epoch 11/15\n",
      "15/15 - 1s - loss: 0.0033 - 589ms/epoch - 39ms/step\n",
      "Epoch 12/15\n",
      "15/15 - 1s - loss: 0.0030 - 580ms/epoch - 39ms/step\n",
      "Epoch 13/15\n",
      "15/15 - 1s - loss: 0.0028 - 564ms/epoch - 38ms/step\n",
      "Epoch 14/15\n",
      "15/15 - 1s - loss: 0.0026 - 563ms/epoch - 38ms/step\n",
      "Epoch 15/15\n",
      "15/15 - 1s - loss: 0.0026 - 567ms/epoch - 38ms/step\n"
     ]
    }
   ],
   "source": [
    "#creating dataframe\n",
    "symbol = 'SPY'\n",
    "bar = api.get_barset(symbol, 'day', limit=730)\n",
    "\n",
    "c = []\n",
    "t = []\n",
    "idx = []\n",
    "\n",
    "for i in range(len(bar[symbol])):\n",
    "    temp_c = c.append(bar[symbol][i].c) \n",
    "    temp_t = t.append(bar[symbol][i].t)\n",
    "    temp_idx = idx.append(i)\n",
    "    i = i + 1\n",
    "\n",
    "df_bar_t = pd.DataFrame(t, idx,columns = ['Date'])\n",
    "df_bar_c = pd.DataFrame(c, idx, columns = ['Close'])\n",
    "\n",
    "new_data = pd.merge(df_bar_t,df_bar_c, left_index = True, right_index = True)\n",
    "add_nextdate(new_data)\n",
    " \n",
    "#change index\n",
    "new_data.index = new_data.Date\n",
    "new_data.drop('Date', axis=1, inplace=True)\n",
    " \n",
    "#creating train and test sets\n",
    "dataset = new_data.values\n",
    " \n",
    "train = dataset[0:511,:]\n",
    "valid = dataset[511:,:]\n",
    " \n",
    "#converting dataset into X_train and y_train\n",
    "scaler = MinMaxScaler(feature_range=(0, 1))\n",
    "scaled_data = scaler.fit_transform(dataset)\n",
    "\n",
    "#--------------------------\n",
    "# training model \n",
    "X_train, y_train = [], []\n",
    "for i in range(60,len(train)):\n",
    "    X_train.append(scaled_data[i-60:i,0])\n",
    "    y_train.append(scaled_data[i,0])\n",
    "X_train, y_train = np.array(X_train), np.array(y_train)\n",
    " \n",
    "X_train = np.reshape(X_train, (X_train.shape[0],X_train.shape[1],1))\n",
    " \n",
    "# add LSTM network\n",
    "model = Sequential([\n",
    "    layers.LSTM(units = 50, return_sequences = True, input_shape = (X_train.shape[1], 1)), \n",
    "    layers.Dropout(0.2),\n",
    "    layers.LSTM(units = 50),\n",
    "    layers.Dropout(0.2),\n",
    "    # layers.LSTM(units = 50, return_sequences = True, input_shape = (X_train.shape[1], 1)),\n",
    "    # layers.Dropout(0.2),\n",
    "    layers.Dense(units = 1)\n",
    "    ])\n",
    " \n",
    "model.compile(loss='mean_squared_error', optimizer='adam')\n",
    "model.fit(X_train, y_train, epochs=15, batch_size=32, verbose=2)\n",
    "\n",
    " \n",
    "#using past 60 from the train data\n",
    "inputs = new_data[len(new_data) - len(valid) - 60:].values\n",
    "inputs = inputs.reshape(-1,1)\n",
    "inputs  = scaler.transform(inputs)\n",
    " \n",
    "X_test = []\n",
    "for i in range(60,inputs.shape[0]):\n",
    "    X_test.append(inputs[i-60:i,0])\n",
    "X_test = np.array(X_test)\n",
    " \n",
    "X_test = np.reshape(X_test, (X_test.shape[0],X_test.shape[1],1))\n",
    "closing_price = model.predict(X_test)\n",
    "closing_price = scaler.inverse_transform(closing_price)"
   ]
  },
  {
   "cell_type": "code",
   "execution_count": 9,
   "metadata": {},
   "outputs": [
    {
     "data": {
      "text/plain": [
       "5.773623909292201"
      ]
     },
     "execution_count": 9,
     "metadata": {},
     "output_type": "execute_result"
    }
   ],
   "source": [
    "# error calculation \n",
    "rms = np.sqrt(np.mean(np.power((valid-closing_price),2)))\n",
    "rms"
   ]
  },
  {
   "cell_type": "code",
   "execution_count": 10,
   "metadata": {},
   "outputs": [
    {
     "name": "stderr",
     "output_type": "stream",
     "text": [
      "/var/folders/63/s_dlyjvx16z1cy0sqjdr_z840000gn/T/ipykernel_988/433897990.py:3: SettingWithCopyWarning: \n",
      "A value is trying to be set on a copy of a slice from a DataFrame.\n",
      "Try using .loc[row_indexer,col_indexer] = value instead\n",
      "\n",
      "See the caveats in the documentation: https://pandas.pydata.org/pandas-docs/stable/user_guide/indexing.html#returning-a-view-versus-a-copy\n",
      "  valid['Predictions'] = closing_price\n"
     ]
    },
    {
     "data": {
      "text/plain": [
       "[<matplotlib.lines.Line2D at 0x7fb05b88a4f0>,\n",
       " <matplotlib.lines.Line2D at 0x7fb05b88a520>]"
      ]
     },
     "execution_count": 10,
     "metadata": {},
     "output_type": "execute_result"
    },
    {
     "data": {
      "image/png": "[encoded data removed]",
      "text/plain": [
       "<Figure size 432x288 with 1 Axes>"
      ]
     },
     "metadata": {
      "needs_background": "light"
     },
     "output_type": "display_data"
    }
   ],
   "source": [
    "train = new_data[:511]\n",
    "valid = new_data[511:]\n",
    "valid['Predictions'] = closing_price\n",
    "plt.plot(train['Close'])\n",
    "plt.plot(valid[['Close','Predictions']])"
   ]
  },
  {
   "cell_type": "code",
   "execution_count": 11,
   "metadata": {},
   "outputs": [
    {
     "name": "stdout",
     "output_type": "stream",
     "text": [
      "Today's closing price has changed by -9.803511962890639 compared with yesterday\n"
     ]
    }
   ],
   "source": [
    "# predict how the closing price changes tomorrow\n",
    "def nextday_predict(data):\n",
    "    change = data.iloc[-1][0]-data.iloc[-1][1]\n",
    "    return f\"Today's closing price has changed by {change} compared with yesterday\"\n",
    "\n",
    "change = nextday_predict(valid)\n",
    "print(change)"
   ]
  },
  {
   "cell_type": "code",
   "execution_count": null,
   "metadata": {},
   "outputs": [],
   "source": []
  }
 ],
 "metadata": {
  "interpreter": {
   "hash": "4cd8a8ee542e9d24a857d3998513a4e7715d31b544944f3d5691e7853a5e480d"
  },
  "kernelspec": {
   "display_name": "Python 3",
   "language": "python",
   "name": "python3"
  },
  "language_info": {
   "codemirror_mode": {
    "name": "ipython",
    "version": 3
   },
   "file_extension": ".py",
   "mimetype": "text/x-python",
   "name": "python",
   "nbconvert_exporter": "python",
   "pygments_lexer": "ipython3",
   "version": "3.8.12"
  }
 },
 "nbformat": 4,
 "nbformat_minor": 2
}
