{
 "cells": [
  {
   "cell_type": "markdown",
   "metadata": {},
   "source": [
    "# Group Work flow\n",
    "1. Think about strategy\n",
    "2. Back test\n",
    "3. Live Paper Trade (Cloud Deployment)\n",
    "4. Analyze the result and Optimize the Strategy (Repeating 2-4)\n",
    "5. Live Real Trade"
   ]
  },
  {
   "cell_type": "markdown",
   "metadata": {},
   "source": [
    "## Example -- Long only (RSI or SMA cross)\n",
    "#### Relative Strength Index (RSI)\n",
    "The RSI indicator is used to measure the strength of the trend and find potential reversal points.If the RSI is too `big`, it indicates that the stock is overbought, the `price may go down`; else if the RSI is too `small`, the stock tends to be oversold, the `price may go up`.\n",
    "\n",
    "ref: https://www.investopedia.com/terms/r/rsi.asp\n",
    "\n",
    "#### Simple moving average(SMA)\n",
    "It calculates the average over some periods.  \n",
    "Usually we have two SMAs, one is called the `fast moving average` with short period, another is called `slow moving average` with long period.  \n",
    "When the `fast` cross `slow`, the price tends to go up for a while. And when `slow` cross `fast`,the price tends to go down.\n",
    "\n",
    "\n",
    "ref : https://www.investopedia.com/terms/m/movingaverage.asp"
   ]
  },
  {
   "cell_type": "markdown",
   "metadata": {},
   "source": [
    "### Strategy based on RSI or SMA (pseudo-code)  \n",
    "`RSI is too small or (fast cross slow)--->Long`  \n",
    "`RSI is too big or (slow cross fast)--->Close`"
   ]
  },
  {
   "cell_type": "markdown",
   "metadata": {},
   "source": [
    "### Code for back test using `Backtrader intergrated with Alpaca SDK`\n",
    "\n",
    "\n",
    "https://www.backtrader.com/docu/  \n",
    "https://alpaca.markets/docs/alpaca-works-with/  \n",
    "https://github.com/alpacahq/alpaca-backtrader-api"
   ]
  },
  {
   "cell_type": "markdown",
   "metadata": {},
   "source": [
    "Import packages"
   ]
  },
  {
   "cell_type": "code",
   "execution_count": null,
   "metadata": {},
   "outputs": [],
   "source": [
    "import alpaca_backtrader_api\n",
    "import backtrader as bt\n",
    "from datetime import datetime"
   ]
  },
  {
   "cell_type": "markdown",
   "metadata": {},
   "source": [
    "Set API credentials"
   ]
  },
  {
   "cell_type": "code",
   "execution_count": null,
   "metadata": {},
   "outputs": [],
   "source": [
    "ALPACA_API_KEY = \"XXXXXX\"\n",
    "ALPACA_SECRET_KEY = \"XXXXXXXX\""
   ]
  },
  {
   "cell_type": "markdown",
   "metadata": {},
   "source": [
    "Set environment and stock symbol  \n",
    "3 options:\n",
    " - backtest (IS_BACKTEST=True, IS_LIVE=False)\n",
    " - paper trade (IS_BACKTEST=False, IS_LIVE=False)\n",
    " - live trade (IS_BACKTEST=False, IS_LIVE=True)  \n",
    " Here we just want to do back testing."
   ]
  },
  {
   "cell_type": "code",
   "execution_count": null,
   "metadata": {},
   "outputs": [],
   "source": [
    "IS_BACKTEST = True\n",
    "IS_LIVE = False\n",
    "symbol = \"TSLA\""
   ]
  },
  {
   "cell_type": "markdown",
   "metadata": {},
   "source": [
    "Write `backtrader Strategy class`"
   ]
  },
  {
   "cell_type": "code",
   "execution_count": null,
   "metadata": {},
   "outputs": [],
   "source": [
    "class SmaCross1(bt.Strategy):\n",
    "    # list of parameters for the strategy\n",
    "    params = dict(\n",
    "        pfast=#, # period for the fast moving average\n",
    "        pslow=#, # period for the slow moving average\n",
    "        rsi_per=#,\n",
    "        rsi_upper=#,\n",
    "        rsi_lower=#,\n",
    "        rsi_out=#,\n",
    "        warmup=#,\n",
    "    )\n",
    "    #Function to log\n",
    "    def log(self, txt, dt=None):\n",
    "        dt = dt or self.data.datetime[0]\n",
    "        dt = bt.num2date(dt)\n",
    "        print('%s, %s' % (dt.isoformat(), txt))\n",
    "\n",
    "    def notify_trade(self, trade):\n",
    "        self.log(\"placing trade for {}. target size: {}\".format(\n",
    "            trade.getdataname(),\n",
    "            trade.size))\n",
    "\n",
    "    def notify_order(self, order):\n",
    "        print(f\"Order notification. status{order.getstatusname()}.\")\n",
    "        print(f\"Order info. status{order.info}.\")\n",
    "\n",
    "    def notify_store(self, msg, *args, **kwargs):\n",
    "        super().notify_store(msg, *args, **kwargs)\n",
    "        self.log(msg)\n",
    "\n",
    "    def stop(self):\n",
    "        print('==================================================')\n",
    "        print('Starting Value - %.2f' % self.broker.startingcash)\n",
    "        print('Ending   Value - %.2f' % self.broker.getvalue())\n",
    "        print('==================================================')\n",
    "    #main \n",
    "    def __init__(self):\n",
    "        self.live_bars = False\n",
    "        #Determine whether RSI or SMAs to cross\n",
    "        sma1 = bt.ind.SMA(self.data0, period=self.p.pfast)\n",
    "        sma2 = bt.ind.SMA(self.data0, period=self.p.pslow)\n",
    "        self.crossover = bt.ind.CrossOver(sma1, sma2,plotskip=True)\n",
    "\n",
    "        rsi = bt.indicators.RSI(period=self.p.rsi_per,\n",
    "                                upperband=self.p.rsi_upper,\n",
    "                                lowerband=self.p.rsi_lower,plotskip=True)\n",
    "\n",
    "        self.crossdown = bt.ind.CrossDown(rsi, self.p.rsi_upper,plotskip=True)\n",
    "        self.crossup = bt.ind.CrossUp(rsi, self.p.rsi_lower,plotskip=True)\n",
    "\n",
    "    def notify_data(self, data, status, *args, **kwargs):\n",
    "        super().notify_data(data, status, *args, **kwargs)\n",
    "        print('*' * 5, 'DATA NOTIF:', data._getstatusname(status), *args)\n",
    "        if data._getstatusname(status) == \"LIVE\":\n",
    "            self.live_bars = True\n",
    "\n",
    "    def next(self):\n",
    "        if not self.live_bars and not IS_BACKTEST:\n",
    "            # only run code if we have live bars (today's bars).\n",
    "            # ignore if we are backtesting\n",
    "            return\n",
    "        # if fast crosses slow to the upside\n",
    "        if not self.positionsbyname[symbol].size:\n",
    "            if self.crossover > 0 or self.crossup > 0:\n",
    "                # open long positions\n",
    "                self.buy(data=data0, size=X)  \n",
    "\n",
    "        # in the market & cross to the downside\n",
    "        if self.positionsbyname[symbol].size:\n",
    "            if self.crossover <= 0 or self.crossdown < 0:\n",
    "                # close long positions\n",
    "                self.close(data=data0)"
   ]
  },
  {
   "cell_type": "markdown",
   "metadata": {},
   "source": [
    "Filter data so that we only trade between EST 9:30am - 16:00 (Regular trading session)"
   ]
  },
  {
   "cell_type": "code",
   "execution_count": null,
   "metadata": {},
   "outputs": [],
   "source": [
    "class SessionFilter(object):\n",
    "    def __init__(self, data):\n",
    "        pass\n",
    "    def __call__(self, data):\n",
    "        if data.p.sessionstart <= data.datetime.time() <= data.p.sessionend:\n",
    "            return False  \n",
    "        data.backwards()  \n",
    "        return True "
   ]
  },
  {
   "cell_type": "markdown",
   "metadata": {},
   "source": [
    "And the final function"
   ]
  },
  {
   "cell_type": "code",
   "execution_count": null,
   "metadata": {},
   "outputs": [],
   "source": [
    "if __name__ == '__main__':\n",
    "    import logging\n",
    "    logging.basicConfig(format='%(asctime)s %(message)s', level=logging.INFO)\n",
    "    cerebro = bt.Cerebro()\n",
    "    #strategy\n",
    "    cerebro.addstrategy(SmaCross1)\n",
    "    store = alpaca_backtrader_api.AlpacaStore(\n",
    "        key_id=ALPACA_API_KEY,\n",
    "        secret_key=ALPACA_SECRET_KEY,\n",
    "        paper=not IS_LIVE,\n",
    "    )\n",
    "    #Get data from alpaca\n",
    "    DataFactory = store.getdata  # or use alpaca_backtrader_api.AlpacaData\n",
    "    if IS_BACKTEST:\n",
    "        # for backtest\n",
    "        data0 = DataFactory(dataname=symbol, historical=True, #for backtesting\n",
    "                            fromdate=datetime(2021, 11, 1,9,30),#start time\n",
    "                            todate=datetime(2021, 11, 15,9,30), #end time\n",
    "                            timeframe=bt.TimeFrame.Minutes,\n",
    "                            data_feed='CTA')\n",
    "\n",
    "    else:\n",
    "        # for live trading use\n",
    "        data0 = DataFactory(dataname=symbol,\n",
    "                            historical=False,\n",
    "                            timeframe=bt.TimeFrame.Ticks,\n",
    "                            backfill_start=False,\n",
    "                            data_feed='CTA')\n",
    "        broker = store.getbroker()\n",
    "        cerebro.setbroker(broker)\n",
    "    data0.addfilter(SessionFilter)\n",
    "    cerebro.adddata(data0)\n",
    "\n",
    "    if IS_BACKTEST:\n",
    "        # backtrader broker set initial simulated cash\n",
    "        cerebro.broker.setcash(100000.0)\n",
    "\n",
    "    cerebro.run()\n",
    "    cerebro.plot(iplot=False)"
   ]
  },
  {
   "cell_type": "markdown",
   "metadata": {},
   "source": [
    "Fisrt time run result:  \n",
    "2021/11/1 - 2021/11/15 for `TSLA`  \n",
    "Starting Value - 100000.00  \n",
    "Ending   Value -101705.86\n",
    "![img](./presentation/im0.png)"
   ]
  },
  {
   "cell_type": "markdown",
   "metadata": {},
   "source": [
    "After some improvement:  \n",
    "2021/11/1 - 2021/11/15 for `TSLA`  \n",
    "Starting Value - 100000.00  \n",
    "Ending   Value -102815.81\n",
    "![img](./presentation/im1.png)"
   ]
  },
  {
   "cell_type": "markdown",
   "metadata": {
    "id": "i6sedByWIT7a"
   },
   "source": [
    "**Our strategy is that if the 1-minute average is above the 20-minute average, we are going to buy it. Otherwise, clear the stock. This strategy will run every minute.**"
   ]
  },
  {
   "cell_type": "code",
   "execution_count": 12,
   "metadata": {
    "id": "HpClKYca3aMx"
   },
   "outputs": [],
   "source": [
    "API_KEY = \"PK8SSSXD3FX164IYREJ5\"\n",
    "SECRET_KEY = \"NPKEgtQyt3fsRodbOqn4d46V19XI5W9S8Cv64dDT\""
   ]
  },
  {
   "cell_type": "code",
   "execution_count": 13,
   "metadata": {
    "id": "shLxgpgn3O5N"
   },
   "outputs": [],
   "source": [
    "import datetime\n",
    "import time\n",
    "\n",
    "import alpaca_trade_api as tradeapi\n",
    "import numpy as np\n",
    "import pandas as pd\n",
    "\n",
    "pd.options.display.max_rows = 999\n",
    "pd.set_option('display.max_columns', None)\n",
    "\n",
    "from datetime import timedelta\n",
    "\n",
    "from pytz import timezone\n",
    "\n",
    "tz = timezone('EST')\n",
    "\n",
    "api = tradeapi.REST(API_KEY,\n",
    "                    SECRET_KEY,\n",
    "                    'https://paper-api.alpaca.markets')\n",
    "\n",
    "import logging\n",
    "\n",
    "# setting the length of moving average and checking the frequency\n",
    "slow = 20\n",
    "fast = 1\n",
    "\n",
    "freq = '1Min'\n",
    "\n"
   ]
  },
  {
   "cell_type": "markdown",
   "metadata": {
    "id": "l2bFMx99IaWt"
   },
   "source": [
    "Here is the ticker we want to trade and the number of purchases"
   ]
  },
  {
   "cell_type": "code",
   "execution_count": null,
   "metadata": {
    "id": "VnOOSM4C3RSC"
   },
   "outputs": [],
   "source": [
    "#select stock and BUY NUMBER FOR EACH PURCHASE #\n",
    "loading = {'AA': 300, 'AAL': 300, 'UAL': 300, 'NIO': 250, 'AMD': 300, 'NCLH': 200, 'BYND': 200, 'DAL': 500, 'ATVI': 300,\n",
    "        'WORK': 200, 'VIRT': 200, 'AAPL': 300, 'AMC': 200, 'TSLA': 80, 'NKLA': 180, 'XPEV': 100, 'NVDA': 50,\n",
    "           'LMT': 80, 'ZM': 80, 'DOCU': 100, 'TWLO': 100, 'CRWD': 100, 'EAR': 80, 'SNOW': 80, 'TWTR': 400, 'EA': 250,\n",
    "           'ABBV': 200, 'CRSR': 1000, 'PFE': 500, 'PDD': 200, 'LI': 200, 'DISCK':80 }\n",
    "\n",
    "# create a list to hold only stock symbols #\n",
    "symbols = list(loading)"
   ]
  },
  {
   "cell_type": "markdown",
   "metadata": {
    "id": "0oLQRUTlIf1P"
   },
   "source": [
    "Then, we are ready to write our strategy."
   ]
  },
  {
   "cell_type": "code",
   "execution_count": null,
   "metadata": {
    "id": "Bvi_TNAb3gwn"
   },
   "outputs": [],
   "source": [
    "def get_data_bars(symbols, rate, slow, fast):\n",
    "    # generate log to keep track of every transaction\n",
    "    logging.basicConfig(filename='log/{}.log'.format(time.strftime(\"%Y%m%d\")))\n",
    "    logging.warning('{} logging started'.format(datetime.datetime.now().strftime(\"%x %X\")))\n",
    "\n",
    "    # combine the price per minute and volume of all stocks into a dataframe \n",
    "\n",
    "    # use API to generate the dataframe including the final prices and volume\n",
    "    try:\n",
    "        data = api.get_barset(symbols, rate, limit=20).df\n",
    " \n",
    "        # the data that has been accquired\n",
    "        ticker = [x.symbol for x in api.list_positions()]  # the stock ticker \n",
    "        qty = [x.qty for x in api.list_positions()]        # positions\n",
    "        avg_entry_price = [x.avg_entry_price for x in api.list_positions()]\n",
    "        my_position = dict(zip(ticker, qty))\n",
    "        entry_price = dict(zip(ticker, avg_entry_price))\n",
    "\n",
    "        # \"fast_ema_1min\" is average price per minute\n",
    "        # \"loading\" is the number of shares\n",
    "        # \"PL\" is profit and loss \n",
    "        for x in (list(loading)):\n",
    "\n",
    "            data.loc[:, (x, 'fast_ema_1min')] = data[x]['close'].rolling(window=fast).mean()\n",
    "            data.loc[:, (x, 'slow_ema_20min')] = data[x]['close'].rolling(window=slow).mean()\n",
    "            data.loc[:, (x, 'return_1_min')] = (data[x]['close']- data[x]['close'].shift(1))/(data[x]['close'].shift(1))\n",
    "            data.loc[:, (x, 'diff')] = data[x]['slow_ema_20min'] - data[x]['fast_ema_1min']\n",
    "            data.loc[:, (x, 'loading')] = int(loading[x])\n",
    "\n",
    "            if x in ticker:\n",
    "                data.loc[:, (x, 'qty')] = int(my_position[x])\n",
    "                data.loc[:, (x, 'entry_price')] = float(entry_price[x])\n",
    "            else:\n",
    "                data.loc[:, (x, 'qty')] = 0\n",
    "                data.loc[:, (x, 'entry_price')] = data[x]['close']\n",
    "            data.loc[:, (x, 'PL')] = (data[x]['close'] - data[x]['entry_price']) * (data[x]['qty'])\n",
    "\n",
    "        data.fillna(method='ffill', inplace=True)\n",
    "        return data\n",
    "    except:\n",
    "        print(\"There might be connection errors\")\n",
    "        pass"
   ]
  },
  {
   "cell_type": "markdown",
   "metadata": {
    "id": "QoX2jfFEItgA"
   },
   "source": [
    "Next, we check all selected stocks against the data in the dataframe and generate **trading signals**."
   ]
  },
  {
   "cell_type": "code",
   "execution_count": null,
   "metadata": {
    "id": "1Y7rXYB53jF6"
   },
   "outputs": [],
   "source": [
    "def get_signal_bars(symbol_list, rate, ema_slow, ema_fast):\n",
    "    now = datetime.datetime.now()\n",
    "    data = get_data_bars(symbol_list, rate, ema_slow, ema_fast)\n",
    "\n",
    "    signals = {}\n",
    "    for x in symbol_list:    \n",
    "        # When the one-minute average price exceeds the 20-minute average price,\n",
    "        # Buy into!\n",
    "        if (data[x].iloc[-1]['fast_ema_1min'] >= data[x].iloc[-1]['slow_ema_20min']):\n",
    "            signal = (data[x].iloc[-1]['loading'])\n",
    "\n",
    "        # When the one-minute average price falls below the 20-minute average price,\n",
    "        # Clear the stock!\n",
    "        else:\n",
    "            signal = (data[x].iloc[-1]['qty'])*(-1)\n",
    "        signals[x] = signal\n",
    "\n",
    "    return signals"
   ]
  },
  {
   "cell_type": "markdown",
   "metadata": {
    "id": "H4R3uPZiIvzn"
   },
   "source": [
    "U.S. markets open Monday through Friday from 9:30 a.m. to 4 p.m. Est. The function below adjusts the running time of the code."
   ]
  },
  {
   "cell_type": "code",
   "execution_count": null,
   "metadata": {
    "id": "FbOR_nUB3ktK"
   },
   "outputs": [],
   "source": [
    "def time_to_open(current_time):\n",
    "    if current_time.weekday() <= 4:\n",
    "        d = (current_time + timedelta(days=1)).date()\n",
    "    else:\n",
    "        days_to_mon = 0 - current_time.weekday() + 7\n",
    "        d = (current_time + timedelta(days=days_to_mon)).date()\n",
    "    next_day = datetime.datetime.combine(d, datetime.time(8, 30, tzinfo=tz))\n",
    "    seconds = (next_day - current_time).total_seconds()\n",
    "    return seconds"
   ]
  },
  {
   "cell_type": "markdown",
   "metadata": {
    "id": "qHXTqcOKI3iT"
   },
   "source": [
    "We are done. Let's run the program."
   ]
  },
  {
   "cell_type": "code",
   "execution_count": null,
   "metadata": {
    "id": "VuH6UQH73nA6"
   },
   "outputs": [],
   "source": [
    "def run_checker(stocklist):\n",
    "    print('run_checker started')\n",
    "    while True:\n",
    "        # Check if today is a trading day(Monday - Friday)\n",
    "        if datetime.datetime.now(tz).weekday() >= 0 and datetime.datetime.now(tz).weekday() <= 4:\n",
    "            # Checks if market is open now\n",
    "            print('Trading in process '+ datetime.datetime.now().strftime(\"%x %X\"))\n",
    "            if datetime.datetime.now(tz).time() > datetime.time(8,30) and datetime.datetime.now(tz).time() <= datetime.time(15, 00):\n",
    "                signals = get_signal_bars(stocklist, freq, slow, fast)\n",
    "                for signal in signals:\n",
    "                    if signals[signal] > 0:\n",
    "                        \n",
    "                        try:\n",
    "                            api.submit_order(signal, signals[signal], 'buy', 'market', 'day')\n",
    "                            print('{} bought {}  {} shares, portfolio value {}   '.format(datetime.datetime.now(tz).strftime(\"%x %X\"), signal, signals[signal], api.get_account().equity))\n",
    "                            # Record purchases of stocks\n",
    "                            logging.warning('{} bought {}  {} shares, portfolio value {}   '.format(datetime.datetime.now(tz).strftime(\"%x %X\"),\n",
    "                                                                                                            signal, signals[signal], api.get_account().equity))\n",
    "                        except:\n",
    "                            # Record if underfunding\n",
    "                            logging.warning('{} Insufficient buying power'.format(datetime.datetime.now(tz).strftime(\"%x %X\")))\n",
    "                            print('Trading in process '+ datetime.datetime.now().strftime(\"%x %X\") + ' buying ' + signal + ' but Insufficient fund')\n",
    "                            pass\n",
    "                    elif signals[signal] < 0:\n",
    "                        try:\n",
    "                            api.submit_order(signal, -signals[signal], 'sell', 'market', 'day')\n",
    "                            print('{} sold   {} {} shares, portfolio value {}   '.format(datetime.datetime.now(tz).strftime(\"%x %X\"), signal, signals[signal], api.get_account().equity))\n",
    "                            # Record sales of stocks\n",
    "                            logging.warning('{} sold   {} {} shares, portfolio value {}   '.format(datetime.datetime.now(tz).strftime(\"%x %X\"), signal, signals[signal], api.get_account().equity))\n",
    "                        except Exception as e:\n",
    "                            pass\n",
    "                           # Rest for 60 seconds before regenerating the signal\n",
    "                time.sleep(60)\n",
    "\n",
    "            else:\n",
    "                # The program stops running until the market opens \n",
    "                # Get time amount until open, sleep that amount\n",
    "                print('Market closed ({})'.format(datetime.datetime.now(tz)))\n",
    "                print('Sleeping', round(time_to_open(datetime.datetime.now(tz))/60/60, 2), 'hours')\n",
    "                time.sleep(time_to_open(datetime.datetime.now(tz)))"
   ]
  },
  {
   "cell_type": "code",
   "execution_count": null,
   "metadata": {
    "colab": {
     "base_uri": "https://localhost:8080/"
    },
    "id": "5DhLUMDj3oqa",
    "outputId": "53e4bd25-c3e5-4aa4-f8ed-19cfa40ea961"
   },
   "outputs": [],
   "source": [
    "if __name__ == \"__main__\":\n",
    "    run_checker(symbols)"
   ]
  },
  {
   "cell_type": "markdown",
   "metadata": {
    "id": "naXUkIWPI_m1"
   },
   "source": [
    "The key columns for the Alpaca API's native dataframe are price and volume. However, we extracted the key information from the object and incorporated it into the dataframe. For example, we have merged the qty and avg_entry_price of each stock into the dataframe to generate signals."
   ]
  },
  {
   "cell_type": "markdown",
   "metadata": {
    "id": "OeWeD1khQDw0"
   },
   "source": [
    "## Back testing"
   ]
  }
 ],
 "metadata": {
  "colab": {
   "collapsed_sections": [],
   "name": "16Bproject_presentation2.ipynb",
   "provenance": []
  },
  "kernelspec": {
   "display_name": "Python 3",
   "language": "python",
   "name": "python3"
  },
  "language_info": {
   "codemirror_mode": {
    "name": "ipython",
    "version": 3
   },
   "file_extension": ".py",
   "mimetype": "text/x-python",
   "name": "python",
   "nbconvert_exporter": "python",
   "pygments_lexer": "ipython3",
   "version": "3.8.8"
  }
 },
 "nbformat": 4,
 "nbformat_minor": 1
}
